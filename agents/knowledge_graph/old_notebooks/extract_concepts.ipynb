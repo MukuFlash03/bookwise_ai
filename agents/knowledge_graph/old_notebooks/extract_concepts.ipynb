{
 "cells": [
  {
   "cell_type": "markdown",
   "metadata": {},
   "source": [
    "## Setup"
   ]
  },
  {
   "cell_type": "code",
   "execution_count": 1,
   "metadata": {},
   "outputs": [],
   "source": [
    "import pandas as pd\n",
    "import numpy as np\n",
    "import os\n",
    "from langchain.document_loaders import PyPDFLoader, UnstructuredPDFLoader, PyPDFium2Loader\n",
    "from langchain.document_loaders import PyPDFDirectoryLoader, DirectoryLoader\n",
    "from langchain.text_splitter import RecursiveCharacterTextSplitter\n",
    "from pathlib import Path\n",
    "import random\n",
    "\n",
    "## Input data directory\n",
    "# data_dir = \"OrfPathHealth\"\n",
    "data_dir = \"bookwise\"\n",
    "inputdirectory = Path(f\"./data_input/{data_dir}\")\n",
    "## This is where the output csv files will be written\n",
    "out_dir = data_dir\n",
    "outputdirectory = Path(f\"./data_output/{out_dir}\")"
   ]
  },
  {
   "cell_type": "markdown",
   "metadata": {},
   "source": [
    "## Load Documents"
   ]
  },
  {
   "cell_type": "code",
   "execution_count": 2,
   "metadata": {},
   "outputs": [
    {
     "name": "stderr",
     "output_type": "stream",
     "text": [
      "100%|███████████████████████████████████████████████████████████████████████████████████████████████████████████████████████████████████████████| 1/1 [00:01<00:00,  1.76s/it]"
     ]
    },
    {
     "name": "stdout",
     "output_type": "stream",
     "text": [
      "Number of chunks =  4\n",
      "Page Title Speak Effectively in Sales Communication\n",
      "\n",
      "Page Contents Summarized Successfully communicating with customers is the foundation for all sales Two tactics to increase customer reception: understand their language and focus on them Understand their language: Avoid one-size-fits-all sales pitch, recognize customers' unique language based on life experiences Tailor your approach and language for each customer Focus on them, not you: Avoid talking about your company and product features Turn the spotlight on customers: Discuss their problems, values, and purchasing plans\n",
      "\n",
      "Page Title Innovate with Less: Strategies for Tough Times\n",
      "\n",
      "Page Contents Summarized Even large corporations need to innovate as start-ups do when resources and time become scarce. Forget the big budget: Innovation doesn't have to be expensive. Use open-source software, online market research tools, and virtual prototypes. Test in the real market: Launch a 'good enough' design quickly and refine it based on market feedback. Skip the business plan: Focus on making the idea happen rather than planning every detail. Make decisions and move on: Be ready to make quick decisions and wind down failing ideas to free up resources. Use open-source tools and virtual prototypes to test ideas cheaply. Don't waste time perfecting ideas before launch; refine in the market instead.\n"
     ]
    },
    {
     "name": "stderr",
     "output_type": "stream",
     "text": [
      "\n"
     ]
    }
   ],
   "source": [
    "## Dir Loader\n",
    "\"\"\"\n",
    "documents = PyPDFDirectoryLoader(inputdirectory).load()\n",
    "## File Loader\n",
    "# documents = PyPDFLoader(\"./data/MedicalDocuments/orf-path_health-n1.pdf\").load()\n",
    "\n",
    "splitter = RecursiveCharacterTextSplitter(\n",
    "    chunk_size=1000,\n",
    "    chunk_overlap=50,\n",
    "    length_function=len,\n",
    "    is_separator_regex=False,\n",
    ")\n",
    "\n",
    "pages = splitter.split_documents(documents)\n",
    "print(\"Number of chunks = \", len(pages))\n",
    "\"\"\"\n",
    "\n",
    "loader = DirectoryLoader(inputdirectory, show_progress=True)\n",
    "documents = loader.load()\n",
    "\n",
    "splitter = RecursiveCharacterTextSplitter(\n",
    "    chunk_size=1500,\n",
    "    chunk_overlap=150,\n",
    "    length_function=len,\n",
    "    is_separator_regex=False,\n",
    ")\n",
    "\n",
    "pages = splitter.split_documents(documents)\n",
    "print(\"Number of chunks = \", len(pages))\n",
    "print(pages[3].page_content)\n"
   ]
  },
  {
   "cell_type": "markdown",
   "metadata": {},
   "source": [
    "## Create a dataframe of all the chunks"
   ]
  },
  {
   "cell_type": "code",
   "execution_count": 3,
   "metadata": {},
   "outputs": [
    {
     "name": "stdout",
     "output_type": "stream",
     "text": [
      "(4, 3)\n"
     ]
    },
    {
     "data": {
      "text/html": [
       "<div>\n",
       "<style scoped>\n",
       "    .dataframe tbody tr th:only-of-type {\n",
       "        vertical-align: middle;\n",
       "    }\n",
       "\n",
       "    .dataframe tbody tr th {\n",
       "        vertical-align: top;\n",
       "    }\n",
       "\n",
       "    .dataframe thead th {\n",
       "        text-align: right;\n",
       "    }\n",
       "</style>\n",
       "<table border=\"1\" class=\"dataframe\">\n",
       "  <thead>\n",
       "    <tr style=\"text-align: right;\">\n",
       "      <th></th>\n",
       "      <th>text</th>\n",
       "      <th>source</th>\n",
       "      <th>chunk_id</th>\n",
       "    </tr>\n",
       "  </thead>\n",
       "  <tbody>\n",
       "    <tr>\n",
       "      <th>0</th>\n",
       "      <td>Book Title\\n\\nAtomic habits\\n\\nAuthor\\n\\nJames...</td>\n",
       "      <td>data_input/bookwise/book_library.txt</td>\n",
       "      <td>a205c3080db9433aa3990e9173974e4f</td>\n",
       "    </tr>\n",
       "    <tr>\n",
       "      <th>1</th>\n",
       "      <td>Book Title\\n\\nManagement Tips\\n\\nAuthor\\n\\nHar...</td>\n",
       "      <td>data_input/bookwise/book_library.txt</td>\n",
       "      <td>f58590bad09a4c769457feac2da54840</td>\n",
       "    </tr>\n",
       "    <tr>\n",
       "      <th>2</th>\n",
       "      <td>Page Title Manage Stress by Facing It\\n\\nPage ...</td>\n",
       "      <td>data_input/bookwise/book_library.txt</td>\n",
       "      <td>5762081865084547849cee1fa1e0a484</td>\n",
       "    </tr>\n",
       "    <tr>\n",
       "      <th>3</th>\n",
       "      <td>Page Title Speak Effectively in Sales Communic...</td>\n",
       "      <td>data_input/bookwise/book_library.txt</td>\n",
       "      <td>2a8b990a43d94c8b9f85fb5fe4301084</td>\n",
       "    </tr>\n",
       "  </tbody>\n",
       "</table>\n",
       "</div>"
      ],
      "text/plain": [
       "                                                text  \\\n",
       "0  Book Title\\n\\nAtomic habits\\n\\nAuthor\\n\\nJames...   \n",
       "1  Book Title\\n\\nManagement Tips\\n\\nAuthor\\n\\nHar...   \n",
       "2  Page Title Manage Stress by Facing It\\n\\nPage ...   \n",
       "3  Page Title Speak Effectively in Sales Communic...   \n",
       "\n",
       "                                 source                          chunk_id  \n",
       "0  data_input/bookwise/book_library.txt  a205c3080db9433aa3990e9173974e4f  \n",
       "1  data_input/bookwise/book_library.txt  f58590bad09a4c769457feac2da54840  \n",
       "2  data_input/bookwise/book_library.txt  5762081865084547849cee1fa1e0a484  \n",
       "3  data_input/bookwise/book_library.txt  2a8b990a43d94c8b9f85fb5fe4301084  "
      ]
     },
     "execution_count": 3,
     "metadata": {},
     "output_type": "execute_result"
    }
   ],
   "source": [
    "from helpers.df_helpers import documents2Dataframe\n",
    "df = documents2Dataframe(pages)\n",
    "print(df.shape)\n",
    "df.head()"
   ]
  },
  {
   "cell_type": "markdown",
   "metadata": {},
   "source": [
    "## Extract Concepts"
   ]
  },
  {
   "cell_type": "code",
   "execution_count": 4,
   "metadata": {},
   "outputs": [],
   "source": [
    "## This function uses the helpers/prompt function to extract concepts from text\n",
    "from helpers.df_helpers import df2ConceptsList\n",
    "from helpers.df_helpers import concepts2Df"
   ]
  },
  {
   "cell_type": "code",
   "execution_count": 5,
   "metadata": {},
   "outputs": [
    {
     "name": "stdout",
     "output_type": "stream",
     "text": [
      "An error occurred: Out of range float values are not JSON compliant\n",
      "None\n",
      "\n",
      "\n",
      "ERROR ### Here is the buggy response:  None \n",
      "\n",
      "\n",
      "Series([], dtype: float64)\n",
      "Series([], dtype: float64)\n"
     ]
    }
   ],
   "source": [
    "concepts_list = df2ConceptsList(df[10:12])"
   ]
  },
  {
   "cell_type": "code",
   "execution_count": 11,
   "metadata": {},
   "outputs": [
    {
     "ename": "NameError",
     "evalue": "name 'concepts_list' is not defined",
     "output_type": "error",
     "traceback": [
      "\u001b[0;31m---------------------------------------------------------------------------\u001b[0m",
      "\u001b[0;31mNameError\u001b[0m                                 Traceback (most recent call last)",
      "Cell \u001b[0;32mIn[11], line 1\u001b[0m\n\u001b[0;32m----> 1\u001b[0m dfne \u001b[38;5;241m=\u001b[39m concepts2Df(\u001b[43mconcepts_list\u001b[49m)\n\u001b[1;32m      2\u001b[0m dfne\u001b[38;5;241m.\u001b[39mhead()\n",
      "\u001b[0;31mNameError\u001b[0m: name 'concepts_list' is not defined"
     ]
    }
   ],
   "source": [
    "dfne = concepts2Df(concepts_list)\n",
    "dfne.head()"
   ]
  },
  {
   "cell_type": "markdown",
   "metadata": {},
   "source": [
    "### Write CSV to an output directory"
   ]
  },
  {
   "cell_type": "markdown",
   "metadata": {},
   "source": [
    "Both the dataframes are written in the csv format so we dont have to calculate them again. \n",
    "\n",
    "        dfne = dataframe of names entities\n",
    "\n",
    "        df = dataframe of chunks"
   ]
  },
  {
   "cell_type": "code",
   "execution_count": 28,
   "metadata": {},
   "outputs": [],
   "source": [
    "if not os.path.exists(outputdirectory):\n",
    "   os.makedirs(outputdirectory)\n",
    "   \n",
    "dfne.to_csv(outputdirectory/\"concepts.csv\", sep=\"|\", index=False)\n",
    "df.to_csv(outputdirectory/\"chunks.csv\", sep=\"|\", index=False)"
   ]
  },
  {
   "cell_type": "markdown",
   "metadata": {},
   "source": [
    "## Named Entities from Concepts"
   ]
  },
  {
   "cell_type": "markdown",
   "metadata": {},
   "source": [
    "**Not using this right now**\n",
    "\n",
    "Extracting named entities our of concepts. \n"
   ]
  },
  {
   "cell_type": "code",
   "execution_count": 3,
   "metadata": {},
   "outputs": [],
   "source": [
    "from transformers import pipeline\n",
    "\n",
    "ner = pipeline(\"token-classification\", model=\"2rtl3/mn-xlm-roberta-base-named-entity\", aggregation_strategy=\"simple\")\n",
    "# ner = pipeline(\"token-classification\", model=\"dslim/bert-large-NER\", aggregation_strategy=\"simple\")\n",
    "\n",
    "def row2NamedEntities(row):\n",
    "    ner_results = ner(row['entity'])\n",
    "    metadata = {'chunk_id': row['chunk_id'], 'type': 'entity'}\n",
    "    entities = []\n",
    "    for result in ner_results:\n",
    "        entities = entities + [{'entity': result['word'], 'catetory': result['entity_group'], **metadata}]\n",
    "        \n",
    "    return entities\n",
    "\n",
    "\n",
    "\n",
    "def dfText2DfNE(dataframe: pd.DataFrame):\n",
    "    ## Takes a dataframe from the parsed data and returns dataframe with named entities. \n",
    "    ## The input dataframe must have a entity and a chunk_id column. \n",
    "\n",
    "    ## 1. Calculate named entities for each row of the dataframe. \n",
    "    results = dataframe.apply(row2NamedEntities, axis=1).reset_index(drop=True)\n",
    "\n",
    "    ## Flatten the list of lists to one single list of entities. \n",
    "    entities_list = np.concatenate(results).ravel().tolist()\n",
    "\n",
    "    ## Remove all NaN entities\n",
    "    entities_dataframe = pd.DataFrame(entities_list).replace(' ', np.nan)\n",
    "    entities_dataframe = entities_dataframe.dropna(subset=['entity'])\n",
    "\n",
    "    ## Count the number of occurances per chunk id\n",
    "    # entities_dataframe = entities_dataframe.groupby(['entity', 'category', 'chunk_id']).size().reset_index(name='count')\n",
    "\n",
    "    return entities_dataframe"
   ]
  },
  {
   "cell_type": "code",
   "execution_count": 5,
   "metadata": {},
   "outputs": [
    {
     "data": {
      "text/html": [
       "<div>\n",
       "<style scoped>\n",
       "    .dataframe tbody tr th:only-of-type {\n",
       "        vertical-align: middle;\n",
       "    }\n",
       "\n",
       "    .dataframe tbody tr th {\n",
       "        vertical-align: top;\n",
       "    }\n",
       "\n",
       "    .dataframe thead th {\n",
       "        text-align: right;\n",
       "    }\n",
       "</style>\n",
       "<table border=\"1\" class=\"dataframe\">\n",
       "  <thead>\n",
       "    <tr style=\"text-align: right;\">\n",
       "      <th></th>\n",
       "      <th>entity</th>\n",
       "      <th>catetory</th>\n",
       "      <th>chunk_id</th>\n",
       "      <th>type</th>\n",
       "    </tr>\n",
       "  </thead>\n",
       "  <tbody>\n",
       "    <tr>\n",
       "      <th>0</th>\n",
       "      <td>Mental Health</td>\n",
       "      <td>MISC</td>\n",
       "      <td>83d4d0367bb0467e811782a4ada3bbb9</td>\n",
       "      <td>entity</td>\n",
       "    </tr>\n",
       "    <tr>\n",
       "      <th>1</th>\n",
       "      <td>Health Equity</td>\n",
       "      <td>ORG</td>\n",
       "      <td>83d4d0367bb0467e811782a4ada3bbb9</td>\n",
       "      <td>entity</td>\n",
       "    </tr>\n",
       "    <tr>\n",
       "      <th>2</th>\n",
       "      <td>World Health Organization (WHO)</td>\n",
       "      <td>ORG</td>\n",
       "      <td>83d4d0367bb0467e811782a4ada3bbb9</td>\n",
       "      <td>entity</td>\n",
       "    </tr>\n",
       "    <tr>\n",
       "      <th>3</th>\n",
       "      <td>United Nations (UN)</td>\n",
       "      <td>ORG</td>\n",
       "      <td>83d4d0367bb0467e811782a4ada3bbb9</td>\n",
       "      <td>entity</td>\n",
       "    </tr>\n",
       "    <tr>\n",
       "      <th>4</th>\n",
       "      <td>Sustainable Development Goals (SDGs)</td>\n",
       "      <td>MISC</td>\n",
       "      <td>83d4d0367bb0467e811782a4ada3bbb9</td>\n",
       "      <td>entity</td>\n",
       "    </tr>\n",
       "    <tr>\n",
       "      <th>...</th>\n",
       "      <td>...</td>\n",
       "      <td>...</td>\n",
       "      <td>...</td>\n",
       "      <td>...</td>\n",
       "    </tr>\n",
       "    <tr>\n",
       "      <th>967</th>\n",
       "      <td>National University of Singapore's Saw Swee Ho...</td>\n",
       "      <td>ORG</td>\n",
       "      <td>4dbae5e4a3ee45bdbf9d55dec8921c2c</td>\n",
       "      <td>entity</td>\n",
       "    </tr>\n",
       "    <tr>\n",
       "      <th>968</th>\n",
       "      <td>Associate Professor</td>\n",
       "      <td>MISC</td>\n",
       "      <td>4dbae5e4a3ee45bdbf9d55dec8921c2c</td>\n",
       "      <td>entity</td>\n",
       "    </tr>\n",
       "    <tr>\n",
       "      <th>969</th>\n",
       "      <td>Jeremy Lim</td>\n",
       "      <td>PER</td>\n",
       "      <td>4dbae5e4a3ee45bdbf9d55dec8921c2c</td>\n",
       "      <td>entity</td>\n",
       "    </tr>\n",
       "    <tr>\n",
       "      <th>970</th>\n",
       "      <td>Janice Tan</td>\n",
       "      <td>PER</td>\n",
       "      <td>4dbae5e4a3ee45bdbf9d55dec8921c2c</td>\n",
       "      <td>entity</td>\n",
       "    </tr>\n",
       "    <tr>\n",
       "      <th>971</th>\n",
       "      <td>singapore</td>\n",
       "      <td>LOC</td>\n",
       "      <td>2f3c4ce941c14624bfbd3da82ff8def7</td>\n",
       "      <td>entity</td>\n",
       "    </tr>\n",
       "  </tbody>\n",
       "</table>\n",
       "<p>972 rows × 4 columns</p>\n",
       "</div>"
      ],
      "text/plain": [
       "                                                entity catetory  \\\n",
       "0                                        Mental Health     MISC   \n",
       "1                                        Health Equity      ORG   \n",
       "2                      World Health Organization (WHO)      ORG   \n",
       "3                                  United Nations (UN)      ORG   \n",
       "4                 Sustainable Development Goals (SDGs)     MISC   \n",
       "..                                                 ...      ...   \n",
       "967  National University of Singapore's Saw Swee Ho...      ORG   \n",
       "968                                Associate Professor     MISC   \n",
       "969                                         Jeremy Lim      PER   \n",
       "970                                         Janice Tan      PER   \n",
       "971                                          singapore      LOC   \n",
       "\n",
       "                             chunk_id    type  \n",
       "0    83d4d0367bb0467e811782a4ada3bbb9  entity  \n",
       "1    83d4d0367bb0467e811782a4ada3bbb9  entity  \n",
       "2    83d4d0367bb0467e811782a4ada3bbb9  entity  \n",
       "3    83d4d0367bb0467e811782a4ada3bbb9  entity  \n",
       "4    83d4d0367bb0467e811782a4ada3bbb9  entity  \n",
       "..                                ...     ...  \n",
       "967  4dbae5e4a3ee45bdbf9d55dec8921c2c  entity  \n",
       "968  4dbae5e4a3ee45bdbf9d55dec8921c2c  entity  \n",
       "969  4dbae5e4a3ee45bdbf9d55dec8921c2c  entity  \n",
       "970  4dbae5e4a3ee45bdbf9d55dec8921c2c  entity  \n",
       "971  2f3c4ce941c14624bfbd3da82ff8def7  entity  \n",
       "\n",
       "[972 rows x 4 columns]"
      ]
     },
     "execution_count": 5,
     "metadata": {},
     "output_type": "execute_result"
    }
   ],
   "source": [
    "\n",
    "dataframe_dir = 'OrfPathHealth'\n",
    "df_concepts = pd.read_csv(f\"./data/output/{dataframe_dir}/concepts.csv\", sep=\"|\")\n",
    "\n",
    "dfc_split = dfText2DfNE(df_concepts)\n",
    "dfc_split"
   ]
  },
  {
   "cell_type": "code",
   "execution_count": null,
   "metadata": {},
   "outputs": [],
   "source": []
  }
 ],
 "metadata": {
  "kernelspec": {
   "display_name": "Python 3 (ipykernel)",
   "language": "python",
   "name": "python3"
  },
  "language_info": {
   "codemirror_mode": {
    "name": "ipython",
    "version": 3
   },
   "file_extension": ".py",
   "mimetype": "text/x-python",
   "name": "python",
   "nbconvert_exporter": "python",
   "pygments_lexer": "ipython3",
   "version": "3.11.10"
  }
 },
 "nbformat": 4,
 "nbformat_minor": 4
}
